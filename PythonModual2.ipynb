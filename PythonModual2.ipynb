{
 "cells": [
  {
   "cell_type": "code",
   "execution_count": 6,
   "id": "d953ce23",
   "metadata": {},
   "outputs": [
    {
     "name": "stdout",
     "output_type": "stream",
     "text": [
      "0\n",
      "Zero\n"
     ]
    }
   ],
   "source": [
    "#write a python program to check if a number is positive,negative or zero.\n",
    "\n",
    "var1=int(input())\n",
    "if var1 > 0:\n",
    "    print(\"positive\")\n",
    "elif var1==0:\n",
    "    print(\"Zero\")\n",
    "else:\n",
    "    print(\"negative\")"
   ]
  },
  {
   "cell_type": "code",
   "execution_count": 14,
   "id": "f3a3f574",
   "metadata": {},
   "outputs": [
    {
     "name": "stdout",
     "output_type": "stream",
     "text": [
      "5\n",
      "The factorial of 5 is 120\n"
     ]
    }
   ],
   "source": [
    "#write a python program to get the factorial number of a given number.\n",
    "\n",
    "num=int(input())\n",
    "factorial = 1\n",
    "if num == 0:\n",
    "   print(\"The factorial of 0 is 1\")\n",
    "else:\n",
    "   for i in range(1,num + 1):\n",
    "       factorial = factorial*i\n",
    "   print(\"The factorial of\",num,\"is\",factorial)"
   ]
  },
  {
   "cell_type": "code",
   "execution_count": null,
   "id": "80763e2c",
   "metadata": {},
   "outputs": [],
   "source": [
    "#how memory is managed n python\n",
    "\n",
    "Memory in python is managed dynamically with private heap space.\n"
   ]
  },
  {
   "cell_type": "code",
   "execution_count": 16,
   "id": "c3ea8105",
   "metadata": {},
   "outputs": [
    {
     "name": "stdout",
     "output_type": "stream",
     "text": [
      "2\n",
      "5\n",
      "d1 is: 5\n",
      "d2 is: 2\n"
     ]
    }
   ],
   "source": [
    "#Write python program to swap two number with  temp variable and without temp variable\n",
    "d1=int(input())\n",
    "d2=int(input())\n",
    "\n",
    "d1,d2=d2,d1\n",
    "print(\"d1 is:\",d1)\n",
    "print(\"d2 is:\",d2)"
   ]
  },
  {
   "cell_type": "code",
   "execution_count": 20,
   "id": "238d7caa",
   "metadata": {},
   "outputs": [
    {
     "name": "stdout",
     "output_type": "stream",
     "text": [
      "20\n",
      "Number is Even\n"
     ]
    }
   ],
   "source": [
    "#Write a Python program to find whether a given number is even or odd, print out an appropriate message to the user\n",
    "num=int(input())\n",
    "if num % 2==0:\n",
    "    print(\"Number is Even\")\n",
    "else:\n",
    "    print(\"Number is Odd\")\n"
   ]
  },
  {
   "cell_type": "code",
   "execution_count": 22,
   "id": "cd364cdd",
   "metadata": {},
   "outputs": [
    {
     "name": "stdout",
     "output_type": "stream",
     "text": [
      "e\n",
      "It is a vowel.\n"
     ]
    }
   ],
   "source": [
    "#Write a Python program to test whether a passed letter is a vowel or not.\n",
    "letter=input()\n",
    "d=[\"a\",\"e\",\"i\",\"o\",\"u\"]\n",
    "if letter in d:\n",
    "    print(\"It is a vowel.\")\n",
    "else:\n",
    "    print(\"It is not a vowel.\")"
   ]
  },
  {
   "cell_type": "code",
   "execution_count": 32,
   "id": "03032824",
   "metadata": {},
   "outputs": [
    {
     "name": "stdout",
     "output_type": "stream",
     "text": [
      "2\n",
      "2\n",
      "6\n",
      "zero\n"
     ]
    }
   ],
   "source": [
    "#Write a Python program to sum of three given integers.However, if two values are equal sum will be zero.\n",
    "one=int(input())\n",
    "two=int(input())\n",
    "three=int(input())\n",
    "if one!=two!=three:\n",
    "    print(one+two+three)\n",
    "elif one==two or two==three or three==one:\n",
    "    print(\"zero\")"
   ]
  },
  {
   "cell_type": "code",
   "execution_count": 41,
   "id": "cd651fc5",
   "metadata": {},
   "outputs": [
    {
     "name": "stdout",
     "output_type": "stream",
     "text": [
      "5\n",
      "10\n",
      "False\n"
     ]
    }
   ],
   "source": [
    "#Write a Python program that will return true if the two given integer values are equal or their sum or difference is 5.\n",
    "val1=int(input())\n",
    "val2=int(input())\n",
    "if val1==val2 or val1+val2==5 or val1-val2==5:\n",
    "    print(True)\n",
    "else:\n",
    "    print(False)"
   ]
  },
  {
   "cell_type": "code",
   "execution_count": 46,
   "id": "5f11bc13",
   "metadata": {},
   "outputs": [
    {
     "name": "stdout",
     "output_type": "stream",
     "text": [
      "7\n",
      "28\n"
     ]
    }
   ],
   "source": [
    "#Write a python program to sum of the first n positive integers.\n",
    "\n",
    "dm=int(input())\n",
    "a=dm + 1\n",
    "b=a//2\n",
    "c=b *dm\n",
    "d=int(c)\n",
    "print(c)"
   ]
  },
  {
   "cell_type": "code",
   "execution_count": 49,
   "id": "1fd6d20a",
   "metadata": {},
   "outputs": [
    {
     "name": "stdout",
     "output_type": "stream",
     "text": [
      "darshilpatel\n"
     ]
    },
    {
     "data": {
      "text/plain": [
       "12"
      ]
     },
     "execution_count": 49,
     "metadata": {},
     "output_type": "execute_result"
    }
   ],
   "source": [
    "#Write a Python program to calculate the length of a string.\n",
    "string=input()\n",
    "len(string)"
   ]
  },
  {
   "cell_type": "code",
   "execution_count": null,
   "id": "572fc205",
   "metadata": {},
   "outputs": [],
   "source": []
  }
 ],
 "metadata": {
  "kernelspec": {
   "display_name": "Python 3 (ipykernel)",
   "language": "python",
   "name": "python3"
  },
  "language_info": {
   "codemirror_mode": {
    "name": "ipython",
    "version": 3
   },
   "file_extension": ".py",
   "mimetype": "text/x-python",
   "name": "python",
   "nbconvert_exporter": "python",
   "pygments_lexer": "ipython3",
   "version": "3.9.13"
  }
 },
 "nbformat": 4,
 "nbformat_minor": 5
}
