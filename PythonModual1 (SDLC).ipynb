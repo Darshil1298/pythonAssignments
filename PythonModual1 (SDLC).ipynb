{
 "cells": [
  {
   "cell_type": "code",
   "execution_count": null,
   "id": "aa8235bf",
   "metadata": {},
   "outputs": [],
   "source": [
    "#What is software?\n",
    "ans1-->Software is a collection of computer programs & related documents that are intended to provide desired features,\n",
    "functionalities and better performance."
   ]
  },
  {
   "cell_type": "code",
   "execution_count": null,
   "id": "4455c7c0",
   "metadata": {},
   "outputs": [],
   "source": [
    "#what are the types of Application?\n",
    "Web application,Mobile application,Desktop application."
   ]
  },
  {
   "cell_type": "code",
   "execution_count": null,
   "id": "2a9b3de2",
   "metadata": {},
   "outputs": [],
   "source": [
    "#what is programming?\n",
    "Programming is writing code to perform specific actions or task in a computer,\n",
    "application or software program, and instructs them on how to perform."
   ]
  },
  {
   "cell_type": "code",
   "execution_count": null,
   "id": "b55f8032",
   "metadata": {},
   "outputs": [],
   "source": [
    "#what is python?\n",
    "python is  computer language used to built websites and softwares.Guido Van Rossom introduced python language."
   ]
  }
 ],
 "metadata": {
  "kernelspec": {
   "display_name": "Python 3 (ipykernel)",
   "language": "python",
   "name": "python3"
  },
  "language_info": {
   "codemirror_mode": {
    "name": "ipython",
    "version": 3
   },
   "file_extension": ".py",
   "mimetype": "text/x-python",
   "name": "python",
   "nbconvert_exporter": "python",
   "pygments_lexer": "ipython3",
   "version": "3.9.13"
  }
 },
 "nbformat": 4,
 "nbformat_minor": 5
}
